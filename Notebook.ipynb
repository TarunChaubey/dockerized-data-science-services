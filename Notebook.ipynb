{
 "cells": [
  {
   "cell_type": "markdown",
   "metadata": {},
   "source": [
    "### Open Search"
   ]
  },
  {
   "cell_type": "code",
   "execution_count": 12,
   "metadata": {},
   "outputs": [
    {
     "name": "stdout",
     "output_type": "stream",
     "text": [
      "Successfully connected to OpenSearch!\n"
     ]
    }
   ],
   "source": [
    "from opensearchpy import OpenSearch\n",
    "\n",
    "#Replace with your WSL IP address,\n",
    "host = \"localhost\" \n",
    "port = 9200 #  OpenSearch port exposed in WSL,\n",
    "\n",
    "#Connect to OpenSearch,\n",
    "client = OpenSearch(\n",
    "    hosts=[{'host': host, 'port': port}],\n",
    "    http_auth=('admin', 'SamplePassword1!'), #   Use the correct admin password,\n",
    "    use_ssl=False,   # Adjust if you're using HTTPS,\n",
    "    verify_certs=False   # Adjust if you have SSL certificates,\n",
    ")\n",
    "\n",
    "#Verify the connection,\n",
    "if client.ping():\n",
    "    print(\"Successfully connected to OpenSearch!\")\n",
    "else:\n",
    "    print(\"Failed to connect to OpenSearch\")"
   ]
  },
  {
   "cell_type": "markdown",
   "metadata": {},
   "source": [
    "#### Mongo DB"
   ]
  },
  {
   "cell_type": "code",
   "execution_count": 9,
   "metadata": {},
   "outputs": [
    {
     "name": "stdout",
     "output_type": "stream",
     "text": [
      "Successfully connected to MongoDB.\n"
     ]
    }
   ],
   "source": [
    "from pymongo import MongoClient\n",
    "try:\n",
    "    # Try to connect to MongoDB\n",
    "    client = MongoClient(\"mongodb://localhost:27017/\")\n",
    "    client.admin.command('ping')  # Ping the MongoDB server\n",
    "    print(\"Successfully connected to MongoDB.\")\n",
    "except Exception as e:\n",
    "    print(f\"Error connecting to MongoDB: {e}\")"
   ]
  },
  {
   "cell_type": "markdown",
   "metadata": {},
   "source": [
    "### Redis"
   ]
  },
  {
   "cell_type": "code",
   "execution_count": 10,
   "metadata": {},
   "outputs": [
    {
     "name": "stdout",
     "output_type": "stream",
     "text": [
      "Authentication required.\n"
     ]
    }
   ],
   "source": [
    "import redis\n",
    "try:\n",
    "    r = redis.Redis(host='localhost', port=6379)\n",
    "    print(\"Connection Status: \",r.ping())\n",
    "    print(\"Connection Create\")\n",
    "except Exception as e:\n",
    "    print(e)"
   ]
  },
  {
   "cell_type": "markdown",
   "metadata": {},
   "source": [
    "### PostgreSQL"
   ]
  },
  {
   "cell_type": "code",
   "execution_count": 11,
   "metadata": {},
   "outputs": [
    {
     "name": "stdout",
     "output_type": "stream",
     "text": [
      "Connection Created\n",
      "Connection status: 1\n",
      "Database: mydatabase\n",
      "PostgreSQL version: ('PostgreSQL 15.4 (Debian 15.4-2.pgdg120+1) on x86_64-pc-linux-gnu, compiled by gcc (Debian 12.2.0-14) 12.2.0, 64-bit',)\n"
     ]
    }
   ],
   "source": [
    "import psycopg2\n",
    "\n",
    "# Connect to the PostgreSQL database\n",
    "try:\n",
    "    conn = psycopg2.connect(\n",
    "        host=\"localhost\",\n",
    "        user=\"postgres\",\n",
    "        password=\"postgrespassword\",\n",
    "        port=5432,\n",
    "        database=\"mydatabase\"\n",
    "    )\n",
    "    \n",
    "    print(\"Connection Created\")\n",
    "    \n",
    "    # Print the connection status and other useful info\n",
    "    print(f\"Connection status: {conn.status}\")  # This will give you the status of the connection\n",
    "    print(f\"Database: {conn.get_dsn_parameters()['dbname']}\")  # Prints the database name\n",
    "    \n",
    "    # You can also use conn.cursor() to interact with the database\n",
    "    cursor = conn.cursor()\n",
    "    cursor.execute('SELECT version();')\n",
    "    db_version = cursor.fetchone()\n",
    "    print(f\"PostgreSQL version: {db_version}\")\n",
    "    \n",
    "    # Close the cursor and connection after use\n",
    "    cursor.close()\n",
    "    conn.close()\n",
    "    \n",
    "except Exception as e:\n",
    "    print(f\"Error: {e}\")"
   ]
  },
  {
   "cell_type": "code",
   "execution_count": null,
   "metadata": {},
   "outputs": [],
   "source": []
  }
 ],
 "metadata": {
  "kernelspec": {
   "display_name": "Python 3",
   "language": "python",
   "name": "python3"
  },
  "language_info": {
   "codemirror_mode": {
    "name": "ipython",
    "version": 3
   },
   "file_extension": ".py",
   "mimetype": "text/x-python",
   "name": "python",
   "nbconvert_exporter": "python",
   "pygments_lexer": "ipython3",
   "version": "3.9.20"
  }
 },
 "nbformat": 4,
 "nbformat_minor": 2
}
